{
 "cells": [
  {
   "attachments": {},
   "cell_type": "markdown",
   "metadata": {},
   "source": [
    "# INFO 4271 - Exercise 6 - Link Analysis\n",
    "\n",
    "Issued: May 28, 2024\n",
    "\n",
    "Due: June 3rd, 2024\n",
    "\n",
    "Please submit this filled sheet via Ilias by the due date.\n",
    "\n",
    "---"
   ]
  },
  {
   "attachments": {},
   "cell_type": "markdown",
   "metadata": {},
   "source": [
    "# 1. Co-Linking Similarity \n",
    "The directed graph of resource pointers (e.g., hyperlinks on the Internet, or citations in academic publishing) implicitly encodes topic information but can be much cheaper to process than the content words of the individual documents.\n",
    "\n",
    "a) Implement a document similarity measure based only on graph topology, assuming that documents are similar if they link to similar documents."
   ]
  },
  {
   "cell_type": "code",
   "execution_count": 24,
   "metadata": {},
   "outputs": [
    {
     "name": "stdout",
     "output_type": "stream",
     "text": [
      "\tD1\tD2\tD3\tD4\tD5\tD6\tD7\tD8\tD9\tD10\tD11\tD12\tD13\tD14\tD15\tD16\tD17\tD18\tD19\tD20\t\n",
      "D1\t1.0\t0.0\t0.167\t0.25\t0.0\t0.0\t0.0\t0.077\t0.0\t0.25\t0.0\t0.167\t0.0\t0.333\t0.0\t0.25\t0.0\t0.25\t0.0\t0.0\t\n",
      "D2\t0.0\t1.0\t0.0\t0.0\t0.0\t0.0\t0.0\t0.071\t0.0\t0.0\t0.333\t0.0\t0.0\t0.0\t0.333\t0.0\t0.286\t0.0\t0.0\t0.0\t\n",
      "D3\t0.167\t0.0\t1.0\t0.143\t0.0\t0.125\t0.167\t0.214\t0.0\t0.333\t0.0\t0.111\t0.333\t0.167\t0.0\t0.0\t0.1\t0.143\t0.0\t0.0\t\n",
      "D4\t0.25\t0.0\t0.143\t1.0\t0.2\t0.0\t0.0\t0.25\t0.0\t0.2\t0.0\t0.143\t0.2\t0.667\t0.0\t0.2\t0.0\t1.0\t0.0\t0.0\t\n",
      "D5\t0.0\t0.0\t0.0\t0.2\t1.0\t0.167\t0.0\t0.154\t0.0\t0.0\t0.0\t0.0\t0.2\t0.25\t0.0\t0.2\t0.0\t0.2\t0.0\t0.0\t\n",
      "D6\t0.0\t0.0\t0.125\t0.0\t0.167\t1.0\t0.2\t0.143\t0.0\t0.0\t0.0\t0.0\t0.0\t0.0\t0.0\t0.0\t0.111\t0.0\t0.0\t0.25\t\n",
      "D7\t0.0\t0.0\t0.167\t0.0\t0.0\t0.2\t1.0\t0.167\t0.0\t0.25\t0.0\t0.0\t0.0\t0.0\t0.0\t0.0\t0.0\t0.0\t0.0\t0.0\t\n",
      "D8\t0.077\t0.071\t0.214\t0.25\t0.154\t0.143\t0.167\t1.0\t0.0\t0.25\t0.0\t0.214\t0.071\t0.167\t0.0\t0.154\t0.125\t0.25\t0.0\t0.0\t\n",
      "D9\t0.0\t0.0\t0.0\t0.0\t0.0\t0.0\t0.0\t0.0\t0.0\t0.0\t0.0\t0.0\t0.0\t0.0\t0.0\t0.0\t0.0\t0.0\t0.0\t0.0\t\n",
      "D10\t0.25\t0.0\t0.333\t0.2\t0.0\t0.0\t0.25\t0.25\t0.0\t1.0\t0.0\t0.0\t0.0\t0.25\t0.0\t0.0\t0.125\t0.2\t0.0\t0.0\t\n",
      "D11\t0.0\t0.333\t0.0\t0.0\t0.0\t0.0\t0.0\t0.0\t0.0\t0.0\t1.0\t0.0\t0.0\t0.0\t0.0\t0.0\t0.167\t0.0\t0.0\t0.0\t\n",
      "D12\t0.167\t0.0\t0.111\t0.143\t0.0\t0.0\t0.0\t0.214\t0.0\t0.0\t0.0\t1.0\t0.143\t0.0\t0.0\t0.143\t0.1\t0.143\t0.0\t0.0\t\n",
      "D13\t0.0\t0.0\t0.333\t0.2\t0.2\t0.0\t0.0\t0.071\t0.0\t0.0\t0.0\t0.143\t1.0\t0.25\t0.0\t0.2\t0.125\t0.2\t0.0\t0.0\t\n",
      "D14\t0.333\t0.0\t0.167\t0.667\t0.25\t0.0\t0.0\t0.167\t0.0\t0.25\t0.0\t0.0\t0.25\t1.0\t0.0\t0.25\t0.0\t0.667\t0.0\t0.0\t\n",
      "D15\t0.0\t0.333\t0.0\t0.0\t0.0\t0.0\t0.0\t0.0\t0.0\t0.0\t0.0\t0.0\t0.0\t0.0\t1.0\t0.0\t0.167\t0.0\t0.0\t0.0\t\n",
      "D16\t0.25\t0.0\t0.0\t0.2\t0.2\t0.0\t0.0\t0.154\t0.0\t0.0\t0.0\t0.143\t0.2\t0.25\t0.0\t1.0\t0.0\t0.2\t0.0\t0.0\t\n",
      "D17\t0.0\t0.286\t0.1\t0.0\t0.0\t0.111\t0.0\t0.125\t0.0\t0.125\t0.167\t0.1\t0.125\t0.0\t0.167\t0.0\t1.0\t0.0\t0.0\t0.167\t\n",
      "D18\t0.25\t0.0\t0.143\t1.0\t0.2\t0.0\t0.0\t0.25\t0.0\t0.2\t0.0\t0.143\t0.2\t0.667\t0.0\t0.2\t0.0\t1.0\t0.0\t0.0\t\n",
      "D19\t0.0\t0.0\t0.0\t0.0\t0.0\t0.0\t0.0\t0.0\t0.0\t0.0\t0.0\t0.0\t0.0\t0.0\t0.0\t0.0\t0.0\t0.0\t0.0\t0.0\t\n",
      "D20\t0.0\t0.0\t0.0\t0.0\t0.0\t0.25\t0.0\t0.0\t0.0\t0.0\t0.0\t0.0\t0.0\t0.0\t0.0\t0.0\t0.167\t0.0\t0.0\t1.0\t\n"
     ]
    }
   ],
   "source": [
    "#An example graph topology. Each entry represents a document alongside the outgoing links found in its content. \n",
    "graph = {'D1' : ['D14', 'D16'],\n",
    "\t\t 'D2' : ['D5', 'D6', 'D7'],\n",
    "\t\t 'D3' : ['D4', 'D14', 'D15', 'D18', 'D19'],\n",
    "\t\t 'D4' : ['D2', 'D9', 'D14'],\n",
    "\t\t 'D5' : ['D2', 'D8', 'D17'],\n",
    "\t\t 'D6' : ['D3', 'D8', 'D12', 'D15'],\n",
    "\t\t 'D7' : ['D3', 'D19'],\n",
    "\t\t 'D8' : ['D1', 'D2', 'D3', 'D5', 'D9', 'D10', 'D11', 'D13', 'D14', 'D15', 'D17', 'D19'],\n",
    "\t\t 'D9' : [],\n",
    "\t\t 'D10' : ['D1', 'D14', 'D19'],\n",
    "\t\t 'D11' : ['D6'],\n",
    "\t\t 'D12' : ['D9', 'D11', 'D13', 'D16', 'D18'],\n",
    "\t\t 'D13' : ['D2', 'D4', 'D18'],\n",
    "\t\t 'D14' : ['D2', 'D14'],\n",
    "\t\t 'D15' : ['D7'],\n",
    "\t\t 'D16' : ['D2', 'D10', 'D16'],\n",
    "\t\t 'D17' : ['D1', 'D4', 'D6', 'D7', 'D11', 'D12'],\n",
    "\t\t 'D18' : ['D2', 'D9', 'D14'],\n",
    "\t\t 'D19' : [],\n",
    "\t\t 'D20' : ['D12']\n",
    "\t\t}\n",
    "\n",
    "#Measure the similarity between two documents x and y in a graph based on their outgoing links. \n",
    "def sim_out(x, y, graph):\n",
    "\tlinks_x = set(graph[x])\n",
    "\tlinks_y = set(graph[y])\n",
    "\n",
    "\tintersection_links = links_x.intersection(links_y)\n",
    "\tunion_links = links_x.union(links_y)\n",
    "\n",
    "\tif len(links_x) == 0 or len(links_y) == 0:\n",
    "\t\treturn 0.0\n",
    "\n",
    "\treturn round(len(intersection_links) / len(union_links), 3)\n",
    "\n",
    "#Print a document simialrity matrix \n",
    "l = '\\t'\n",
    "for doc in graph:\n",
    "\tl += doc+'\\t'\n",
    "print(l)\n",
    "for doc in graph:\n",
    "\tl = doc+'\\t'\n",
    "\tfor d in graph:\n",
    "\t\tl += str(sim_out(doc, d, graph))+'\\t'\n",
    "\tprint(l)"
   ]
  },
  {
   "attachments": {},
   "cell_type": "markdown",
   "metadata": {},
   "source": [
    "b) Now let us modify the above scheme to also use the documents' incoming links in the calculation of the similarity score."
   ]
  },
  {
   "cell_type": "code",
   "execution_count": 37,
   "metadata": {},
   "outputs": [
    {
     "name": "stdout",
     "output_type": "stream",
     "text": [
      "Document:  D1\n",
      "Link:  D14\n",
      "x:  D1\n",
      "Link:  D16\n",
      "x:  D1\n",
      "Document:  D2\n",
      "Link:  D5\n",
      "x:  D1\n",
      "Link:  D6\n",
      "x:  D1\n",
      "Link:  D7\n",
      "x:  D1\n",
      "Document:  D3\n",
      "Link:  D4\n",
      "x:  D1\n",
      "Link:  D14\n",
      "x:  D1\n",
      "Link:  D15\n",
      "x:  D1\n",
      "Link:  D18\n",
      "x:  D1\n",
      "Link:  D19\n",
      "x:  D1\n",
      "Document:  D4\n",
      "Link:  D2\n",
      "x:  D1\n",
      "Link:  D9\n",
      "x:  D1\n",
      "Link:  D14\n",
      "x:  D1\n",
      "Document:  D5\n",
      "Link:  D2\n",
      "x:  D1\n",
      "Link:  D8\n",
      "x:  D1\n",
      "Link:  D17\n",
      "x:  D1\n",
      "Document:  D6\n",
      "Link:  D3\n",
      "x:  D1\n",
      "Link:  D8\n",
      "x:  D1\n",
      "Link:  D12\n",
      "x:  D1\n",
      "Link:  D15\n",
      "x:  D1\n",
      "Document:  D7\n",
      "Link:  D3\n",
      "x:  D1\n",
      "Link:  D19\n",
      "x:  D1\n",
      "Document:  D8\n",
      "Link:  D1\n",
      "x:  D1\n"
     ]
    },
    {
     "ename": "AttributeError",
     "evalue": "'dict' object has no attribute 'add'",
     "output_type": "error",
     "traceback": [
      "\u001b[1;31m---------------------------------------------------------------------------\u001b[0m",
      "\u001b[1;31mAttributeError\u001b[0m                            Traceback (most recent call last)",
      "Cell \u001b[1;32mIn[37], line 38\u001b[0m\n\u001b[0;32m     36\u001b[0m l \u001b[38;5;241m=\u001b[39m doc\u001b[38;5;241m+\u001b[39m\u001b[38;5;124m'\u001b[39m\u001b[38;5;130;01m\\t\u001b[39;00m\u001b[38;5;124m'\u001b[39m\n\u001b[0;32m     37\u001b[0m \u001b[38;5;28;01mfor\u001b[39;00m d \u001b[38;5;129;01min\u001b[39;00m graph:\n\u001b[1;32m---> 38\u001b[0m \tl \u001b[38;5;241m+\u001b[39m\u001b[38;5;241m=\u001b[39m \u001b[38;5;28mstr\u001b[39m(\u001b[43msim_inout\u001b[49m\u001b[43m(\u001b[49m\u001b[43mdoc\u001b[49m\u001b[43m,\u001b[49m\u001b[43m \u001b[49m\u001b[43md\u001b[49m\u001b[43m,\u001b[49m\u001b[43m \u001b[49m\u001b[43mgraph\u001b[49m\u001b[43m)\u001b[49m)\u001b[38;5;241m+\u001b[39m\u001b[38;5;124m'\u001b[39m\u001b[38;5;130;01m\\t\u001b[39;00m\u001b[38;5;124m'\u001b[39m\n\u001b[0;32m     39\u001b[0m \u001b[38;5;66;03m# print(l)\u001b[39;00m\n",
      "Cell \u001b[1;32mIn[37], line 21\u001b[0m, in \u001b[0;36msim_inout\u001b[1;34m(x, y, graph)\u001b[0m\n\u001b[0;32m     19\u001b[0m \u001b[38;5;28mprint\u001b[39m(\u001b[38;5;124m\"\u001b[39m\u001b[38;5;124mx: \u001b[39m\u001b[38;5;124m\"\u001b[39m, x)\n\u001b[0;32m     20\u001b[0m \u001b[38;5;28;01mif\u001b[39;00m link \u001b[38;5;241m==\u001b[39m x:\n\u001b[1;32m---> 21\u001b[0m \t\u001b[43mlinks_in_x\u001b[49m\u001b[38;5;241;43m.\u001b[39;49m\u001b[43madd\u001b[49m(document[\u001b[38;5;241m0\u001b[39m])\n\u001b[0;32m     22\u001b[0m \u001b[38;5;28;01mif\u001b[39;00m link \u001b[38;5;241m==\u001b[39m y:\n\u001b[0;32m     23\u001b[0m \tlinks_in_y\u001b[38;5;241m.\u001b[39madd(document[\u001b[38;5;241m0\u001b[39m])\n",
      "\u001b[1;31mAttributeError\u001b[0m: 'dict' object has no attribute 'add'"
     ]
    }
   ],
   "source": [
    "#Measure the similarity between two documents x and y in a graph based on their incoming and outgoing links. \n",
    "def sim_inout(x, y, graph):\n",
    "\tlinks_out_x = set(graph[x])\n",
    "\tlinks_out_y = set(graph[y])\n",
    "\n",
    "\tintersection_links = links_out_x.intersection(links_out_y)\n",
    "\tunion_links = links_out_x.union(links_out_y)\n",
    "\n",
    "\tif len(links_out_x) == 0 or len(links_out_y) == 0:\n",
    "\t\treturn 0.0\n",
    "\t\n",
    "\tlinks_in_x = {}\n",
    "\tlinks_in_y = {}\n",
    "\n",
    "\tfor document in graph:\n",
    "\t\tprint(\"Document: \", document)\n",
    "\t\tfor link in graph[document]:\n",
    "\t\t\tprint(\"Link: \", link)\n",
    "\t\t\tprint(\"x: \", x)\n",
    "\t\t\tif link == x:\n",
    "\t\t\t\tlinks_in_x.add(document[0])\n",
    "\t\t\tif link == y:\n",
    "\t\t\t\tlinks_in_y.add(document[0])\n",
    "\n",
    "\tprint(x)\n",
    "\tprint(links_in_x)\n",
    "\n",
    "\treturn round(len(intersection_links) / len(union_links), 3)\n",
    "\n",
    "#Print a document simialrity matrix \n",
    "l = '\\t'\n",
    "for doc in graph:\n",
    "\tl += doc+'\\t'\n",
    "# print(l)\n",
    "for doc in graph:\n",
    "\tl = doc+'\\t'\n",
    "\tfor d in graph:\n",
    "\t\tl += str(sim_inout(doc, d, graph))+'\\t'\n",
    "\t# print(l)"
   ]
  },
  {
   "attachments": {},
   "cell_type": "markdown",
   "metadata": {},
   "source": [
    "c) Discuss the differences between these two simialrity score variants. What are the salient advantages and disadvantages they offer?"
   ]
  },
  {
   "attachments": {},
   "cell_type": "markdown",
   "metadata": {},
   "source": []
  },
  {
   "attachments": {},
   "cell_type": "markdown",
   "metadata": {},
   "source": [
    "# 2. PageRank\n",
    "\n",
    "The PageRank algorithm models page authoritativeness. Is it robust to tempering? Can you think of ways to game the PageRank scheme and give your website an artificially high score? What are ways to defend against such attacks?"
   ]
  },
  {
   "attachments": {},
   "cell_type": "markdown",
   "metadata": {},
   "source": []
  }
 ],
 "metadata": {
  "kernelspec": {
   "display_name": "Python 3",
   "language": "python",
   "name": "python3"
  },
  "language_info": {
   "codemirror_mode": {
    "name": "ipython",
    "version": 3
   },
   "file_extension": ".py",
   "mimetype": "text/x-python",
   "name": "python",
   "nbconvert_exporter": "python",
   "pygments_lexer": "ipython3",
   "version": "3.9.13"
  },
  "orig_nbformat": 4
 },
 "nbformat": 4,
 "nbformat_minor": 2
}
