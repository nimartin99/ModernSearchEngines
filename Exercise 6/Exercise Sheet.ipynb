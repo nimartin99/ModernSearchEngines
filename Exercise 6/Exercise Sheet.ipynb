{
 "cells": [
  {
   "attachments": {},
   "cell_type": "markdown",
   "metadata": {},
   "source": [
    "# INFO 4271 - Exercise 6 - Link Analysis\n",
    "\n",
    "Issued: May 28, 2024\n",
    "\n",
    "Due: June 3rd, 2024\n",
    "\n",
    "Please submit this filled sheet via Ilias by the due date.\n",
    "\n",
    "---"
   ]
  },
  {
   "attachments": {},
   "cell_type": "markdown",
   "metadata": {},
   "source": [
    "# 1. Co-Linking Similarity \n",
    "The directed graph of resource pointers (e.g., hyperlinks on the Internet, or citations in academic publishing) implicitly encodes topic information but can be much cheaper to process than the content words of the individual documents.\n",
    "\n",
    "a) Implement a document similarity measure based only on graph topology, assuming that documents are similar if they link to similar documents."
   ]
  },
  {
   "cell_type": "code",
   "execution_count": 1,
   "metadata": {},
   "outputs": [
    {
     "name": "stdout",
     "output_type": "stream",
     "text": [
      "\tD1\tD2\tD3\tD4\tD5\tD6\tD7\tD8\tD9\tD10\tD11\tD12\tD13\tD14\tD15\tD16\tD17\tD18\tD19\tD20\t\n",
      "D1\t1.0\t0.0\t0.167\t0.25\t0.0\t0.0\t0.0\t0.077\t0.0\t0.25\t0.0\t0.167\t0.0\t0.333\t0.0\t0.25\t0.0\t0.25\t0.0\t0.0\t\n",
      "D2\t0.0\t1.0\t0.0\t0.0\t0.0\t0.0\t0.0\t0.071\t0.0\t0.0\t0.333\t0.0\t0.0\t0.0\t0.333\t0.0\t0.286\t0.0\t0.0\t0.0\t\n",
      "D3\t0.167\t0.0\t1.0\t0.143\t0.0\t0.125\t0.167\t0.214\t0.0\t0.333\t0.0\t0.111\t0.333\t0.167\t0.0\t0.0\t0.1\t0.143\t0.0\t0.0\t\n",
      "D4\t0.25\t0.0\t0.143\t1.0\t0.2\t0.0\t0.0\t0.25\t0.0\t0.2\t0.0\t0.143\t0.2\t0.667\t0.0\t0.2\t0.0\t1.0\t0.0\t0.0\t\n",
      "D5\t0.0\t0.0\t0.0\t0.2\t1.0\t0.167\t0.0\t0.154\t0.0\t0.0\t0.0\t0.0\t0.2\t0.25\t0.0\t0.2\t0.0\t0.2\t0.0\t0.0\t\n",
      "D6\t0.0\t0.0\t0.125\t0.0\t0.167\t1.0\t0.2\t0.143\t0.0\t0.0\t0.0\t0.0\t0.0\t0.0\t0.0\t0.0\t0.111\t0.0\t0.0\t0.25\t\n",
      "D7\t0.0\t0.0\t0.167\t0.0\t0.0\t0.2\t1.0\t0.167\t0.0\t0.25\t0.0\t0.0\t0.0\t0.0\t0.0\t0.0\t0.0\t0.0\t0.0\t0.0\t\n",
      "D8\t0.077\t0.071\t0.214\t0.25\t0.154\t0.143\t0.167\t1.0\t0.0\t0.25\t0.0\t0.214\t0.071\t0.167\t0.0\t0.154\t0.125\t0.25\t0.0\t0.0\t\n",
      "D9\t0.0\t0.0\t0.0\t0.0\t0.0\t0.0\t0.0\t0.0\t1.0\t0.0\t0.0\t0.0\t0.0\t0.0\t0.0\t0.0\t0.0\t0.0\t1.0\t0.0\t\n",
      "D10\t0.25\t0.0\t0.333\t0.2\t0.0\t0.0\t0.25\t0.25\t0.0\t1.0\t0.0\t0.0\t0.0\t0.25\t0.0\t0.0\t0.125\t0.2\t0.0\t0.0\t\n",
      "D11\t0.0\t0.333\t0.0\t0.0\t0.0\t0.0\t0.0\t0.0\t0.0\t0.0\t1.0\t0.0\t0.0\t0.0\t0.0\t0.0\t0.167\t0.0\t0.0\t0.0\t\n",
      "D12\t0.167\t0.0\t0.111\t0.143\t0.0\t0.0\t0.0\t0.214\t0.0\t0.0\t0.0\t1.0\t0.143\t0.0\t0.0\t0.143\t0.1\t0.143\t0.0\t0.0\t\n",
      "D13\t0.0\t0.0\t0.333\t0.2\t0.2\t0.0\t0.0\t0.071\t0.0\t0.0\t0.0\t0.143\t1.0\t0.25\t0.0\t0.2\t0.125\t0.2\t0.0\t0.0\t\n",
      "D14\t0.333\t0.0\t0.167\t0.667\t0.25\t0.0\t0.0\t0.167\t0.0\t0.25\t0.0\t0.0\t0.25\t1.0\t0.0\t0.25\t0.0\t0.667\t0.0\t0.0\t\n",
      "D15\t0.0\t0.333\t0.0\t0.0\t0.0\t0.0\t0.0\t0.0\t0.0\t0.0\t0.0\t0.0\t0.0\t0.0\t1.0\t0.0\t0.167\t0.0\t0.0\t0.0\t\n",
      "D16\t0.25\t0.0\t0.0\t0.2\t0.2\t0.0\t0.0\t0.154\t0.0\t0.0\t0.0\t0.143\t0.2\t0.25\t0.0\t1.0\t0.0\t0.2\t0.0\t0.0\t\n",
      "D17\t0.0\t0.286\t0.1\t0.0\t0.0\t0.111\t0.0\t0.125\t0.0\t0.125\t0.167\t0.1\t0.125\t0.0\t0.167\t0.0\t1.0\t0.0\t0.0\t0.167\t\n",
      "D18\t0.25\t0.0\t0.143\t1.0\t0.2\t0.0\t0.0\t0.25\t0.0\t0.2\t0.0\t0.143\t0.2\t0.667\t0.0\t0.2\t0.0\t1.0\t0.0\t0.0\t\n",
      "D19\t0.0\t0.0\t0.0\t0.0\t0.0\t0.0\t0.0\t0.0\t1.0\t0.0\t0.0\t0.0\t0.0\t0.0\t0.0\t0.0\t0.0\t0.0\t1.0\t0.0\t\n",
      "D20\t0.0\t0.0\t0.0\t0.0\t0.0\t0.25\t0.0\t0.0\t0.0\t0.0\t0.0\t0.0\t0.0\t0.0\t0.0\t0.0\t0.167\t0.0\t0.0\t1.0\t\n"
     ]
    }
   ],
   "source": [
    "#An example graph topology. Each entry represents a document alongside the outgoing links found in its content. \n",
    "graph = {'D1' : ['D14', 'D16'],\n",
    "\t\t 'D2' : ['D5', 'D6', 'D7'],\n",
    "\t\t 'D3' : ['D4', 'D14', 'D15', 'D18', 'D19'],\n",
    "\t\t 'D4' : ['D2', 'D9', 'D14'],\n",
    "\t\t 'D5' : ['D2', 'D8', 'D17'],\n",
    "\t\t 'D6' : ['D3', 'D8', 'D12', 'D15'],\n",
    "\t\t 'D7' : ['D3', 'D19'],\n",
    "\t\t 'D8' : ['D1', 'D2', 'D3', 'D5', 'D9', 'D10', 'D11', 'D13', 'D14', 'D15', 'D17', 'D19'],\n",
    "\t\t 'D9' : [],\n",
    "\t\t 'D10' : ['D1', 'D14', 'D19'],\n",
    "\t\t 'D11' : ['D6'],\n",
    "\t\t 'D12' : ['D9', 'D11', 'D13', 'D16', 'D18'],\n",
    "\t\t 'D13' : ['D2', 'D4', 'D18'],\n",
    "\t\t 'D14' : ['D2', 'D14'],\n",
    "\t\t 'D15' : ['D7'],\n",
    "\t\t 'D16' : ['D2', 'D10', 'D16'],\n",
    "\t\t 'D17' : ['D1', 'D4', 'D6', 'D7', 'D11', 'D12'],\n",
    "\t\t 'D18' : ['D2', 'D9', 'D14'],\n",
    "\t\t 'D19' : [],\n",
    "\t\t 'D20' : ['D12']\n",
    "\t\t}\n",
    "\n",
    "#Measure the similarity between two documents x and y in a graph based on their outgoing links. \n",
    "def sim_out(x, y, graph):\n",
    "\tlinks_x = set(graph[x])\n",
    "\tlinks_y = set(graph[y])\n",
    "\n",
    "\tintersection_links = links_x.intersection(links_y)\n",
    "\tunion_links = links_x.union(links_y)\n",
    "\n",
    "\tif len(links_x) == 0 or len(links_y) == 0:\n",
    "\t\tif len(links_x) == 0 and len(links_y) == 0:\n",
    "\t\t\treturn 1.0\n",
    "\t\telse:\n",
    "\t\t\treturn 0.0\n",
    "\n",
    "\treturn round(len(intersection_links) / len(union_links), 3)\n",
    "\n",
    "#Print a document simialrity matrix \n",
    "l = '\\t'\n",
    "for doc in graph:\n",
    "\tl += doc+'\\t'\n",
    "print(l)\n",
    "for doc in graph:\n",
    "\tl = doc+'\\t'\n",
    "\tfor d in graph:\n",
    "\t\tl += str(sim_out(doc, d, graph))+'\\t'\n",
    "\tprint(l)"
   ]
  },
  {
   "attachments": {},
   "cell_type": "markdown",
   "metadata": {},
   "source": [
    "b) Now let us modify the above scheme to also use the documents' incoming links in the calculation of the similarity score."
   ]
  },
  {
   "cell_type": "code",
   "execution_count": 23,
   "metadata": {},
   "outputs": [
    {
     "name": "stdout",
     "output_type": "stream",
     "text": [
      "\tD1\tD2\tD3\tD4\tD5\tD6\tD7\tD8\tD9\tD10\tD11\tD12\tD13\tD14\tD15\tD16\tD17\tD18\tD19\tD20\t\n",
      "D1\t1.0\t0.056\t0.183\t0.225\t0.125\t0.1\t0.1\t0.038\t0.083\t0.25\t0.25\t0.183\t0.125\t0.292\t0.1\t0.125\t0.125\t0.125\t0.2\t0.0\t\n",
      "D2\t0.056\t1.0\t0.056\t0.056\t0.062\t0.0\t0.0\t0.098\t0.188\t0.143\t0.222\t0.0\t0.062\t0.2\t0.222\t0.056\t0.286\t0.056\t0.05\t0.0\t\n",
      "D3\t0.183\t0.056\t1.0\t0.071\t0.125\t0.062\t0.083\t0.232\t0.083\t0.292\t0.1\t0.156\t0.292\t0.139\t0.25\t0.0\t0.175\t0.071\t0.2\t0.0\t\n",
      "D4\t0.225\t0.056\t0.071\t1.0\t0.1\t0.1\t0.1\t0.125\t0.0\t0.1\t0.1\t0.171\t0.1\t0.389\t0.1\t0.1\t0.0\t0.75\t0.083\t0.0\t\n",
      "D5\t0.125\t0.062\t0.125\t0.1\t1.0\t0.208\t0.125\t0.077\t0.1\t0.167\t0.125\t0.0\t0.267\t0.188\t0.125\t0.1\t0.167\t0.1\t0.1\t0.0\t\n",
      "D6\t0.1\t0.0\t0.062\t0.1\t0.208\t1.0\t0.35\t0.071\t0.0\t0.0\t0.1\t0.1\t0.0\t0.0\t0.0\t0.0\t0.056\t0.0\t0.0\t0.125\t\n",
      "D7\t0.1\t0.0\t0.083\t0.1\t0.125\t0.35\t1.0\t0.083\t0.0\t0.125\t0.1\t0.1\t0.0\t0.0\t0.0\t0.0\t0.0\t0.0\t0.0\t0.0\t\n",
      "D8\t0.038\t0.098\t0.232\t0.125\t0.077\t0.071\t0.083\t1.0\t0.0\t0.125\t0.0\t0.232\t0.036\t0.083\t0.125\t0.077\t0.229\t0.125\t0.0\t0.0\t\n",
      "D9\t0.083\t0.188\t0.083\t0.0\t0.1\t0.0\t0.0\t0.0\t1.0\t0.1\t0.2\t0.0\t0.25\t0.188\t0.083\t0.083\t0.1\t0.083\t0.571\t0.0\t\n",
      "D10\t0.25\t0.143\t0.292\t0.1\t0.167\t0.0\t0.125\t0.125\t0.1\t1.0\t0.125\t0.0\t0.167\t0.188\t0.125\t0.125\t0.229\t0.1\t0.1\t0.0\t\n",
      "D11\t0.25\t0.222\t0.1\t0.1\t0.125\t0.1\t0.1\t0.0\t0.2\t0.125\t1.0\t0.1\t0.333\t0.056\t0.1\t0.1\t0.208\t0.1\t0.083\t0.0\t\n",
      "D12\t0.183\t0.0\t0.156\t0.171\t0.0\t0.1\t0.1\t0.232\t0.0\t0.0\t0.1\t1.0\t0.071\t0.0\t0.1\t0.071\t0.05\t0.071\t0.0\t0.0\t\n",
      "D13\t0.125\t0.062\t0.292\t0.1\t0.267\t0.0\t0.0\t0.036\t0.25\t0.167\t0.333\t0.071\t1.0\t0.188\t0.125\t0.225\t0.229\t0.225\t0.1\t0.0\t\n",
      "D14\t0.292\t0.2\t0.139\t0.389\t0.188\t0.0\t0.0\t0.083\t0.188\t0.188\t0.056\t0.0\t0.188\t1.0\t0.125\t0.181\t0.062\t0.389\t0.188\t0.0\t\n",
      "D15\t0.1\t0.222\t0.25\t0.1\t0.125\t0.0\t0.0\t0.125\t0.083\t0.125\t0.1\t0.1\t0.125\t0.125\t1.0\t0.0\t0.208\t0.1\t0.2\t0.0\t\n",
      "D16\t0.125\t0.056\t0.0\t0.1\t0.1\t0.0\t0.0\t0.077\t0.083\t0.125\t0.1\t0.071\t0.225\t0.181\t0.0\t1.0\t0.0\t0.2\t0.0\t0.0\t\n",
      "D17\t0.125\t0.286\t0.175\t0.0\t0.167\t0.056\t0.0\t0.229\t0.1\t0.229\t0.208\t0.05\t0.229\t0.062\t0.208\t0.0\t1.0\t0.0\t0.1\t0.083\t\n",
      "D18\t0.125\t0.056\t0.071\t0.75\t0.1\t0.0\t0.0\t0.125\t0.083\t0.1\t0.1\t0.071\t0.225\t0.389\t0.1\t0.2\t0.0\t1.0\t0.083\t0.0\t\n",
      "D19\t0.2\t0.05\t0.2\t0.083\t0.1\t0.0\t0.0\t0.0\t0.571\t0.1\t0.083\t0.0\t0.1\t0.188\t0.2\t0.0\t0.1\t0.083\t1.0\t0.0\t\n",
      "D20\t0.0\t0.0\t0.0\t0.0\t0.0\t0.125\t0.0\t0.0\t0.0\t0.0\t0.0\t0.0\t0.0\t0.0\t0.0\t0.0\t0.083\t0.0\t0.0\t1.0\t\n"
     ]
    }
   ],
   "source": [
    "#Measure the similarity between two documents x and y in a graph based on their incoming and outgoing links. \n",
    "def sim_inout(x, y, graph):\n",
    "\tlinks_out_x = set(graph[x])\n",
    "\tlinks_out_y = set(graph[y])\n",
    "\n",
    "\tintersection_links_out = links_out_x.intersection(links_out_y)\n",
    "\tunion_links_out = links_out_x.union(links_out_y)\n",
    "\n",
    "\tsimilarity_out = 0.0\n",
    "\tif len(links_out_x) == 0 or len(links_out_y) == 0:\n",
    "\t\tif len(links_out_x) == 0 and len(links_out_y) == 0:\n",
    "\t\t\tsimilarity_out = 1.0\n",
    "\telse:\n",
    "\t\tsimilarity_out = len(intersection_links_out) / len(union_links_out)\n",
    "\n",
    "\t\n",
    "\tlinks_in_x = set()\n",
    "\tlinks_in_y = set()\n",
    "\n",
    "\tfor document in graph:\n",
    "\t\tfor link in graph[document]:\n",
    "\t\t\tif link == x:\n",
    "\t\t\t\tlinks_in_x.add(document)\n",
    "\t\t\tif link == y:\n",
    "\t\t\t\tlinks_in_y.add(document)\n",
    "\n",
    "\tintersection_links_in = links_in_x.intersection(links_in_y)\n",
    "\tunion_links_in = links_in_x.union(links_in_y)\n",
    "\n",
    "\tsimilarity_in = 0.0\n",
    "\tif len(links_in_x) == 0 or len(links_in_y) == 0:\n",
    "\t\tif len(links_in_x) == 0 and len(links_in_y) == 0:\n",
    "\t\t\tsimilarity_in = 1.0\n",
    "\telse:\n",
    "\t\tsimilarity_in = len(intersection_links_in) / len(union_links_in)\n",
    "\n",
    "\n",
    "\treturn round((similarity_out + similarity_in) / 2, 3)\n",
    "\n",
    "#Print a document simialrity matrix \n",
    "l = '\\t'\n",
    "for doc in graph:\n",
    "\tl += doc+'\\t'\n",
    "print(l)\n",
    "for doc in graph:\n",
    "\tl = doc+'\\t'\n",
    "\tfor d in graph:\n",
    "\t\tl += str(sim_inout(doc, d, graph))+'\\t'\n",
    "\tprint(l)"
   ]
  },
  {
   "attachments": {},
   "cell_type": "markdown",
   "metadata": {},
   "source": [
    "c) Discuss the differences between these two simialrity score variants. What are the salient advantages and disadvantages they offer?"
   ]
  },
  {
   "attachments": {},
   "cell_type": "markdown",
   "metadata": {},
   "source": [
    "Similarity based on outgoing links:\n",
    "If we only use the outgoing links for similarity measurment, we assume that documents linking to the same documents have similar content or topics.\n",
    "\n",
    "Advantages: \n",
    "- Easier to compute\n",
    "- Through directly referencing another document by a link we can identify topic-specific relatedness\n",
    "\n",
    "Disadvantages:\n",
    "- Doesn't take the full context into account because the incoming links are left out\n",
    "- Can be biased towards documents that have many outgoing links\n",
    "\n",
    "Similarity based on in- and outgoing links:\n",
    "If we use both in- and outgoing links we get a better view of the big picture in which context the document is in the graph.\n",
    "\n",
    "Advantages: \n",
    "- Provides a more balanced similarity measurment because it's based on in- and outgoing links\n",
    "- Solves the bias problem that documents with many outgoing links have when we would only use outgoing links\n",
    "- Also measures the context especially how documents are referenced by others\n",
    "\n",
    "Disadvantages:  \n",
    "- More complex to compute\n",
    "- We assume that incoming and outgoing links are of equal importance, which may not always be true (we could adjust the weight with which they influence the similarity score to solve this)\n",
    "- We could misjudge similarity if for example the outgoing links of two documents are the same but the incoming links have no overlap\n"
   ]
  },
  {
   "attachments": {},
   "cell_type": "markdown",
   "metadata": {},
   "source": [
    "# 2. PageRank\n",
    "\n",
    "The PageRank algorithm models page authoritativeness. Is it robust to tempering? Can you think of ways to game the PageRank scheme and give your website an artificially high score? What are ways to defend against such attacks?"
   ]
  },
  {
   "attachments": {},
   "cell_type": "markdown",
   "metadata": {},
   "source": [
    "PageRank is robust but not completly protected from tempering/manipulating. If we can artificially increase the number of pages, especially pages with high trust/authority, that link to our page we can increase our ranking significantly. We could do this by\n",
    "- buying links from pages with high authority to transfer some of the authority of the pages to my page.\n",
    "- organize in groups that want to increase their authority. Then create a network of websites that link to each other to increase the authority score. We can recruite more participants by advertising it as a \"link for link\" program.\n",
    "- manipulate link anchor texts. Since PageRank analyizes anchor text we can manipulate anchor texts to appear in more search engine results for specific search terms.\n",
    "\n",
    "\n",
    "Search Engines like google can defend against these types of manipulation by\n",
    "- analysing network behavior and flagging suspicious linkings\n",
    "- punish manipulation attempts by applying harsh penalties to the authority score of the pages\n",
    "- analysing user behavior by measuring if links are really used by organic users and analyizing bounce rates (if users instantly leave the site after link click)\n",
    "- giving more weight to pages with high authority. This increases the difficulty to manipulate the score of pages in a low authority network\n",
    "- giving the users tools to report websites that do suspicous linking\n",
    "- reviewing suspicious pages manually by employees"
   ]
  }
 ],
 "metadata": {
  "kernelspec": {
   "display_name": "Python 3",
   "language": "python",
   "name": "python3"
  },
  "language_info": {
   "codemirror_mode": {
    "name": "ipython",
    "version": 3
   },
   "file_extension": ".py",
   "mimetype": "text/x-python",
   "name": "python",
   "nbconvert_exporter": "python",
   "pygments_lexer": "ipython3",
   "version": "3.10.11"
  },
  "orig_nbformat": 4
 },
 "nbformat": 4,
 "nbformat_minor": 2
}
