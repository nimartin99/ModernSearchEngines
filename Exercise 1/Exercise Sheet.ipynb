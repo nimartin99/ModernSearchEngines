{
 "cells": [
  {
   "attachments": {},
   "cell_type": "markdown",
   "metadata": {},
   "source": [
    "# INFO 4271 - Exercise 1 - Web Crawling\n",
    "\n",
    "Issued: April 16, 2024\n",
    "\n",
    "Due: April 22, 2024\n",
    "\n",
    "Please submit this filled sheet via Ilias by the due date.\n",
    "\n",
    "---"
   ]
  },
  {
   "attachments": {},
   "cell_type": "markdown",
   "metadata": {},
   "source": [
    "# 1. Duplicate Detection\n",
    "When crawling large numbers of Web pages we are likely to encounter a considerable number of duplicate documents. To not flood our index with replicas of the same documents, we need a duplicate detection scheme.\n",
    "\n",
    "a) Using python's built-in hash() function, process the following documents in order of appearance and flag up any exact duplicates.\n",
    "\n",
    "- **D1** \"This is just some document\"\n",
    "- **D2** \"This is another piece of text\"\n",
    "- **D3** \"This is another piece of text\"\n",
    "- **D4** \"This is just some documents\"\n",
    "- **D5** \"Totally different stuff\""
   ]
  },
  {
   "cell_type": "code",
   "execution_count": 7,
   "metadata": {},
   "outputs": [],
   "source": [
    "#Check a single document against an existing collection of previsouly seen documents for exact duplicates.\n",
    "def check_exct(doc, docs):\n",
    "    docHash = hash(doc[1])\n",
    "    for x in docs:\n",
    "        if hash(x[1]) == docHash:\n",
    "            return True\n",
    "    return False"
   ]
  },
  {
   "attachments": {},
   "cell_type": "markdown",
   "metadata": {},
   "source": [
    "b) Going beyond exact duplicates, we want to also identify any near-duplicates that are very similar but not identical to previously seen content. Implement the SimHash method discussed in class and again process the five documents, this time flagging up exact and near duplicates."
   ]
  },
  {
   "cell_type": "code",
   "execution_count": 78,
   "metadata": {},
   "outputs": [],
   "source": [
    "import hashlib\n",
    "\n",
    "#Check a single document against an existing collection of previsouly seen documents for near duplicates\n",
    "def check_simhash(doc, docs):\n",
    "    checkFingerprint = computeFingerprint(doc)\n",
    "    docFingerprints = []\n",
    "    for x in docs:\n",
    "        docFingerprints.append(computeFingerprint(x))\n",
    "    print(docFingerprints)\n",
    "    for fingerprint in docFingerprints:\n",
    "        if checkFingerprint == fingerprint:\n",
    "            return True\n",
    "    return False\n",
    "\n",
    "def computeFingerprint(doc):\n",
    "    weightedWords = weight(doc[1])\n",
    "    addedColumns = [None] * 128\n",
    "    for word in weightedWords:\n",
    "        hashFnk = hashlib.md5()\n",
    "        hashFnk.update(word.encode())\n",
    "        hash = hashFnk.digest()\n",
    "        intWord = int.from_bytes(hash, byteorder='big')\n",
    "        binaryWord = '{:0128b}'.format(intWord)\n",
    "        lst = []\n",
    "        print(word)\n",
    "        print(binaryWord)\n",
    "        for y in range(len(binaryWord)):\n",
    "            if binaryWord[y] == \"0\":\n",
    "                value = -1 * weightedWords[word]\n",
    "            else:\n",
    "                value = 1 * weightedWords[word]\n",
    "            lst.append(value)\n",
    "            if addedColumns[y] is None:\n",
    "                addedColumns[y] = value\n",
    "            else:\n",
    "                addedColumns[y] += value\n",
    "    fingerprint = \"\"\n",
    "    for x in addedColumns:\n",
    "        if x > 0:\n",
    "            fingerprint += \"1\"\n",
    "        else:\n",
    "            fingerprint += \"0\"\n",
    "    return fingerprint\n",
    "\n",
    "def weight(doc):\n",
    "    weightedWords = {}\n",
    "    arr = doc.split()\n",
    "    for word in arr:\n",
    "        if word in weightedWords:\n",
    "            weightedWords[word] = weightedWords[word] + 1\n",
    "        else:\n",
    "            weightedWords[word] = 1\n",
    "    return weightedWords\n"
   ]
  },
  {
   "cell_type": "code",
   "execution_count": 79,
   "metadata": {},
   "outputs": [
    {
     "name": "stdout",
     "output_type": "stream",
     "text": [
      "This\n",
      "01110111011000110001110010100100111100001110000010000100000110011011011100000111001001101010010001000111001100110011101010110110\n",
      "is\n",
      "10100010101001010101000110100110010001011000101010001101111000100010010001000110110011000111011011010110001110011010100111101001\n",
      "just\n",
      "10000001001101001011100001000000001100001100110010100101001010000101111011010000111000001011001100011011101000000110111100010000\n",
      "some\n",
      "00000011110101011001111001100110001111000001101011111001101011000011001110101001100101001001110100010001100100110101000001011010\n",
      "document\n",
      "11111101110000111011110111101111101101111001110011101100100011101011100000100001000111010010010010011001111000000100011100000100\n",
      "10100011111001011001110011100110001101001000100010101101101010000011011000000001100001001011010000010011101100010110101100010000\n",
      "This\n",
      "01110111011000110001110010100100111100001110000010000100000110011011011100000111001001101010010001000111001100110011101010110110\n",
      "is\n",
      "10100010101001010101000110100110010001011000101010001101111000100010010001000110110011000111011011010110001110011010100111101001\n",
      "just\n",
      "10000001001101001011100001000000001100001100110010100101001010000101111011010000111000001011001100011011101000000110111100010000\n",
      "some\n",
      "00000011110101011001111001100110001111000001101011111001101011000011001110101001100101001001110100010001100100110101000001011010\n",
      "documents\n",
      "00100001111101100100110110100001111001010111100100101100100000101001010110111001011001001101000101011001101000010100010010010001\n",
      "00100011111101010001110010100100011101001100100010101101101010000011011110000001111001001011010101010011101100010110100010010000\n"
     ]
    }
   ],
   "source": [
    "crawl = [['D1', 'This is just some document'], ['D2', 'This is another piece of text'], ['D3', 'This is another piece of text'], ['D4', 'This is just some documents'], ['D5', 'Totally different stuff']]\n",
    "\n",
    "#Process raw crawled website content\n",
    "def process(crawl):\n",
    "    # docs = []\n",
    "    # for doc in crawl:\n",
    "    #     if check_simhash(doc, docs): #Can be exchanged for check_simhash()\n",
    "    #         print('DUPLICATE: '+doc[0])\n",
    "    #     else:\n",
    "    #         docs.append(doc)\n",
    "    print(f\"D1 {computeFingerprint(['D1', 'This is just some document'])}\")\n",
    "    print(f\"D1 {computeFingerprint(['D4', 'This is just some documents'])}\")\n",
    "\n",
    "process(crawl)"
   ]
  },
  {
   "attachments": {},
   "cell_type": "markdown",
   "metadata": {},
   "source": [
    "# 2. Focused Search Engines\n",
    "Suppose you were to build a COVID-19 Web search engine for which you want to collect and eventually serve only COVID-19 information. The general web crawling process follows this scheme:\n",
    "\n",
    "1. Create a seed set of known URLs (a.k.a the frontier)\n",
    "2. Pull a URL from the frontier and visit it\n",
    "3. Save the page content for our search engine (indexing)\n",
    "4. Once on the page, note down all URLs linked there\n",
    "5. Put all encountered URLs in the queue\n",
    "6. Repeat from Step 2 until the queue is empty\n",
    "\n",
    "In this particular setting, how should the generic step-by-step crawling process be modified/extended? Discuss all relevant considerations:"
   ]
  },
  {
   "attachments": {},
   "cell_type": "markdown",
   "metadata": {},
   "source": []
  }
 ],
 "metadata": {
  "kernelspec": {
   "display_name": "Python 3",
   "language": "python",
   "name": "python3"
  },
  "language_info": {
   "codemirror_mode": {
    "name": "ipython",
    "version": 3
   },
   "file_extension": ".py",
   "mimetype": "text/x-python",
   "name": "python",
   "nbconvert_exporter": "python",
   "pygments_lexer": "ipython3",
   "version": "3.11.5"
  },
  "orig_nbformat": 4
 },
 "nbformat": 4,
 "nbformat_minor": 2
}
