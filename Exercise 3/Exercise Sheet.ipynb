{
 "cells": [
  {
   "attachments": {},
   "cell_type": "markdown",
   "metadata": {},
   "source": [
    "# INFO 4271 - Exercise 3 - Indexing\n",
    "\n",
    "Issued: April 30, 2024\n",
    "\n",
    "Due: May 6, 2024\n",
    "\n",
    "Please submit this filled sheet via Ilias by the due date.\n",
    "\n",
    "---"
   ]
  },
  {
   "attachments": {},
   "cell_type": "markdown",
   "metadata": {},
   "source": [
    "# 1. Skip Pointers\n",
    "Skip pointers can be used to accelerate posting list intersection, allowing pointers to be moved either to the next sequential list position or to the position of the skip pointer if one is available.\n",
    "\n",
    "a) Implement the `intersect\\_skip()` function sketched below. Each time you would ordinarily increment a pointer by one, you can alternatively follow a skip pointer, if one is available at the position."
   ]
  },
  {
   "cell_type": "code",
   "execution_count": 14,
   "metadata": {},
   "outputs": [
    {
     "name": "stdout",
     "output_type": "stream",
     "text": [
      "A: Increment pointer from 0 to 1\n",
      "B: use skip pointer from 0 to 2 (value 12)\n",
      "Found match 12: Increment pointer A from 1 to 2 and B from 2 to 3\n",
      "A: Increment pointer from 2 to 3\n",
      "A: Increment pointer from 3 to 4\n",
      "A: Increment pointer from 4 to 5\n",
      "B: Increment pointer from 3 to 4\n",
      "Found match 23: Increment pointer A from 5 to 6 and B from 4 to 5\n",
      "[12, 23]\n"
     ]
    }
   ],
   "source": [
    "#Intersect two sorted posting lists that contain skip pointers\n",
    "def intersect_skip(A, B, use_skip_pointers=True):\n",
    "    matches = []\n",
    "    i = 0\n",
    "    j = 0\n",
    "    while(i < len(A) and j < len(B)):\n",
    "        if(A[i][0] == B[j][0]):\n",
    "            print(f\"Found match {A[i][0]}: Increment pointer A from {i} to {i + 1} and B from {j} to {j + 1}\")\n",
    "            matches.append(A[i][0])\n",
    "            i += 1\n",
    "            j += 1\n",
    "        elif A[i] <= B[j]:\n",
    "            if use_skip_pointers and A[i][1] is not None and A[i][2] <= B[j][0]:\n",
    "                print(f\"A: use skip pointer from {i} to {A[i][1]} (value {A[i][2]})\")\n",
    "                i = A[i][1]\n",
    "            else:\n",
    "                print(f\"A: Increment pointer from {i} to {i + 1}\")\n",
    "                i += 1\n",
    "        else:\n",
    "            if use_skip_pointers and B[j][1] is not None and B[j][2] <= A[i][0]:\n",
    "                print(f\"B: use skip pointer from {j} to {B[j][1]} (value {B[j][2]})\")\n",
    "                j = B[j][1]\n",
    "            else:\n",
    "                print(f\"B: Increment pointer from {j} to {j + 1}\")\n",
    "                j += 1\n",
    "    return matches\n",
    "\n",
    "#Posting lists with skip pointers. \n",
    "#Entries take the form [docID, index to skip to, docID at that index]\n",
    "times_skip = [[2, 3, 16], [12, None, None], [15, None, None], [16, 6, 27], [17, None, None], [23, None, None], [27, None, None]]\n",
    "square_skip = [[3, 2, 12], [8, None, None], [12, 4, 23], [19, None, None], [23, None, None]]\n",
    "\n",
    "print(intersect_skip(times_skip, square_skip))"
   ]
  },
  {
   "attachments": {},
   "cell_type": "markdown",
   "metadata": {},
   "source": [
    "b) How many pointer increment operations did you need to intersect the two posting lists with the given skip pointers? How many operations would it have been for the same lists without skip pointers?"
   ]
  },
  {
   "attachments": {},
   "cell_type": "markdown",
   "metadata": {},
   "source": [
    "As we can see in the outputs below with skip pointers we need 9 pointer incrementations and without skip pointers we need 11 incrementations.\n",
    "I counted the following operations as incrementations:\n",
    "- A pointer was incremented because no match was found and no skip pointer was found\n",
    "- A match was found and both pointers get increased -> 2 increments\n",
    "\n",
    "If we would also count using the skip pointers as an increment we would get 10 with skip pointers and 11 without skip pointers."
   ]
  },
  {
   "cell_type": "code",
   "execution_count": 15,
   "metadata": {},
   "outputs": [
    {
     "name": "stdout",
     "output_type": "stream",
     "text": [
      "With skip pointers:\n",
      "A: Increment pointer from 0 to 1\n",
      "B: use skip pointer from 0 to 2 (value 12)\n",
      "Found match 12: Increment pointer A from 1 to 2 and B from 2 to 3\n",
      "A: Increment pointer from 2 to 3\n",
      "A: Increment pointer from 3 to 4\n",
      "A: Increment pointer from 4 to 5\n",
      "B: Increment pointer from 3 to 4\n",
      "Found match 23: Increment pointer A from 5 to 6 and B from 4 to 5\n",
      "\n",
      "Without skip pointers:\n",
      "A: Increment pointer from 0 to 1\n",
      "B: Increment pointer from 0 to 1\n",
      "B: Increment pointer from 1 to 2\n",
      "Found match 12: Increment pointer A from 1 to 2 and B from 2 to 3\n",
      "A: Increment pointer from 2 to 3\n",
      "A: Increment pointer from 3 to 4\n",
      "A: Increment pointer from 4 to 5\n",
      "B: Increment pointer from 3 to 4\n",
      "Found match 23: Increment pointer A from 5 to 6 and B from 4 to 5\n"
     ]
    },
    {
     "data": {
      "text/plain": [
       "[12, 23]"
      ]
     },
     "execution_count": 15,
     "metadata": {},
     "output_type": "execute_result"
    }
   ],
   "source": [
    "print(f\"With skip pointers:\")\n",
    "intersect_skip(times_skip, square_skip)\n",
    "print(f\"\\nWithout skip pointers:\")\n",
    "intersect_skip(times_skip, square_skip, False)"
   ]
  },
  {
   "attachments": {},
   "cell_type": "markdown",
   "metadata": {},
   "source": [
    "# 2. Positional Indices\n",
    "Positional indices include for each posting the exact positions at which the term can be found in the document. This information allows us to satisfy two previously impossible types of queries. 1) Phrase queries require terms to occur adjacently to one another in a specific order. 2) Range queries allow for more leeway between term positions, merely requiring the two terms to appear within a specified number of tokens.\n",
    "\n",
    "Implement the `intersect\\_range()` function sketched in the code base. Each time you would ordinarily have reported a match, you will now need to check whether the range requirement is satisfied. As an optional addition, think about making this range check efficient using some of the techniques discussed for general posting list intersection."
   ]
  },
  {
   "cell_type": "code",
   "execution_count": 22,
   "metadata": {},
   "outputs": [
    {
     "name": "stdout",
     "output_type": "stream",
     "text": [
      "A: Increment pointer from 0 to 1\n",
      "B: Increment pointer from 0 to 1\n",
      "B: Increment pointer from 1 to 2\n",
      "Found match 12 at posA = 6 and posB = 3: Increment pointer A from 1 to 2 and B from 2 to 3\n",
      "A: Increment pointer from 2 to 3\n",
      "A: Increment pointer from 3 to 4\n",
      "A: Increment pointer from 4 to 5\n",
      "B: Increment pointer from 3 to 4\n",
      "Found match 23 at posA = 64 and posB = 63: Increment pointer A from 5 to 6 and B from 4 to 5\n",
      "[12, 23]\n"
     ]
    }
   ],
   "source": [
    "#Intersect two sorted posting lists with document-internal proximity requirements.\n",
    "def intersect_range(A, B, range):\n",
    "    matches = []\n",
    "    i = 0\n",
    "    j = 0\n",
    "    while(i < len(A) and j < len(B)):\n",
    "        if(A[i][0] == B[j][0]):\n",
    "            # print(f\"{A[i][0]} = {B[j][0]}\")\n",
    "            for posA in A[i][1]:\n",
    "                for posB in B[j][1]:\n",
    "                    if abs(posA - posB) <= 3:\n",
    "                        print(f\"Found match {A[i][0]} at posA = {posA} and posB = {posB}: Increment pointer A from {i} to {i + 1} and B from {j} to {j + 1}\")\n",
    "                        matches.append(A[i][0])\n",
    "            i += 1\n",
    "            j += 1\n",
    "        elif A[i] <= B[j]:\n",
    "            print(f\"A: Increment pointer from {i} to {i + 1}\")\n",
    "            i += 1\n",
    "        else:\n",
    "            print(f\"B: Increment pointer from {j} to {j + 1}\")\n",
    "            j += 1\n",
    "    return matches\n",
    "\n",
    "#Posting lists with document-internal positional information.\n",
    "#Entries take the form [docID, [pos1, pos2, ...]]\n",
    "times_range = [[2, [15, 128]], [12, [6, 45, 89, 942]], [15, [13]], [16, [1276, 1500]], [17, [13, 89, 90]], [23, [17, 64]], [27, [456, 629]]]\n",
    "square_range = [[3, [65, 90]], [8, [67, 94]], [12, [3]], [19, [18, 81, 1881]], [23, [63]]]\n",
    "\n",
    "print(intersect_range(times_range, square_range, 3))"
   ]
  },
  {
   "attachments": {},
   "cell_type": "markdown",
   "metadata": {},
   "source": [
    "# 3. Paper Pick\n",
    "Don't forget to submit your paper pick at https://forms.gle/JNnd1V7k1L3uPVxU6."
   ]
  }
 ],
 "metadata": {
  "kernelspec": {
   "display_name": "Python 3",
   "language": "python",
   "name": "python3"
  },
  "language_info": {
   "codemirror_mode": {
    "name": "ipython",
    "version": 3
   },
   "file_extension": ".py",
   "mimetype": "text/x-python",
   "name": "python",
   "nbconvert_exporter": "python",
   "pygments_lexer": "ipython3",
   "version": "3.9.13"
  },
  "orig_nbformat": 4
 },
 "nbformat": 4,
 "nbformat_minor": 2
}
