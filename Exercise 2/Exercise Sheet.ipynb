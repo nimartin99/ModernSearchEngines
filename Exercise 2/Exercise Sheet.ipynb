{
 "cells": [
  {
   "attachments": {},
   "cell_type": "markdown",
   "metadata": {},
   "source": [
    "# INFO 4271 - Exercise 2 - Text Representation\n",
    "\n",
    "Issued: April 23, 2024\n",
    "\n",
    "Due: April 29, 2024\n",
    "\n",
    "Please submit this filled sheet via Ilias by the due date.\n",
    "\n",
    "---"
   ]
  },
  {
   "attachments": {},
   "cell_type": "markdown",
   "metadata": {},
   "source": [
    "# 1. Bag-of-Words Models\n",
    "In class we discussed BOW vectorization models under which documents are represented via term frequency counts.\n",
    "\n",
    "a) Construct term frequency BOW representations for the following sentences:\n",
    "\n",
    "- \"The government is open.\"\n",
    "- \"The government is closed.\"\n",
    "- \"Long live Mickey Mouse, emperor of all!\"\n",
    "- \"Darn! This will break.\""
   ]
  },
  {
   "cell_type": "code",
   "execution_count": 2,
   "metadata": {},
   "outputs": [
    {
     "name": "stdout",
     "output_type": "stream",
     "text": [
      "[{'the': 1, 'government': 1, 'is': 1, 'open': 1}, {'the': 1, 'government': 1, 'is': 1, 'closed': 1}, {'long': 1, 'live': 1, 'mickey': 1, 'mouse': 1, 'emperor': 1, 'of': 1, 'all': 1}, {'darn': 1, 'this': 1, 'will': 1, 'break': 1}]\n"
     ]
    }
   ],
   "source": [
    "import string\n",
    "\n",
    "corpus = [['The government is open.'], ['The government is closed.'], ['Long live Mickey Mouse, emperor of all!'], ['Darn! This will break.']]\n",
    "\n",
    "#Turn a corpus of arbitrary texts into term-frequency weighted BOW vectors.\n",
    "def TF(corpus):\n",
    "    vecs = []\n",
    "    #TODO: Implement me!\n",
    "    for text in corpus:\n",
    "        text[0] = text[0].translate(str.maketrans('', '', string.punctuation))\n",
    "        text[0] = text[0].lower()\n",
    "        words = text[0].split()\n",
    "        bow = {}\n",
    "        for word in words:\n",
    "            if word in bow:\n",
    "                bow[word] += 1\n",
    "            else:\n",
    "                bow[word] = 1\n",
    "        vecs.append(bow)\n",
    "    return vecs\n",
    "\n",
    "print(TF(corpus))"
   ]
  },
  {
   "attachments": {},
   "cell_type": "markdown",
   "metadata": {},
   "source": [
    "b) Extend the term frequency model by an inverse document frequency (IDF) component. Estimate IDFs based on the Reuters 21578 collection."
   ]
  },
  {
   "cell_type": "code",
   "execution_count": 20,
   "metadata": {},
   "outputs": [
    {
     "name": "stdout",
     "output_type": "stream",
     "text": [
      "7769 total train documents\n",
      "The first document contains 633 words.\n",
      "Here they are:\n",
      "done 1 of 5\n",
      "done 2 of 5\n",
      "done 3 of 5\n",
      "done 4 of 5\n",
      "done 5 of 5\n",
      "[{'bahia': 3.494850021680094, 'cocoa': 4.892790030352132, 'review': 1.3979400086720377, 'showers': 0.6989700043360189, 'continued': 0.6989700043360189, 'throughout': 0.6989700043360189, 'the': 0.0, 'week': 1.3979400086720377, 'in': 1.3310924976981384, 'zone': 0.6989700043360189, '': 0.0, 'alleviating': 0.6989700043360189, 'drought': 0.6989700043360189, 'since': 0.6989700043360189, 'early': 0.3979400086720376, 'january': 0.3979400086720376, 'and': 2.2289302991852975, 'improving': 0.6989700043360189, 'prospects': 0.6989700043360189, 'for': 0.9691001300805642, 'coming': 0.6989700043360189, 'temporao': 1.3979400086720377, 'although': 0.6989700043360189, 'normal': 0.6989700043360189, 'humidity': 0.6989700043360189, 'levels': 0.6989700043360189, 'have': 1.3979400086720377, 'not': 0.2218487496163564, 'been': 0.6989700043360189, 'restored': 0.6989700043360189, 'comissaria': 3.494850021680094, 'smith': 3.494850021680094, 'said': 0.0, 'its': 0.0, 'weekly': 0.3979400086720376, 'dry': 0.6989700043360189, 'period': 0.7958800173440752, 'means': 0.6989700043360189, 'will': 0.3979400086720376, 'be': 0.3876400520322257, 'late': 0.6989700043360189, 'this': 0.7958800173440752, 'year': 0.4436974992327128, 'arrivals': 1.3979400086720377, 'ended': 0.6989700043360189, 'february': 2.0969100130080567, '22': 0.6989700043360189, 'were': 1.9966387465472075, '155': 0.6989700043360189, '221': 0.6989700043360189, 'bags': 3.494850021680094, 'of': 0.0, '60': 0.6989700043360189, 'kilos': 1.3979400086720377, 'making': 0.6989700043360189, 'a': 0.0, 'cumulative': 0.6989700043360189, 'total': 0.6655462488490692, 'season': 0.6989700043360189, '5': 0.7958800173440752, '93': 0.6989700043360189, 'mln': 1.109243748081782, 'against': 2.0969100130080567, '81': 0.6989700043360189, 'at': 7.958800173440752, 'same': 0.3979400086720376, 'stage': 0.6989700043360189, 'last': 0.3979400086720376, 'again': 0.3979400086720376, 'it': 0.0, 'seems': 0.6989700043360189, 'that': 0.6989700043360189, 'delivered': 0.6989700043360189, 'earlier': 0.6989700043360189, 'on': 1.193820026016113, 'consignment': 1.3979400086720377, 'was': 0.3979400086720376, 'included': 0.3979400086720376, 'figures': 1.3979400086720377, 'there': 2.0969100130080567, 'is': 0.7958800173440752, 'still': 2.0969100130080567, 'some': 0.6989700043360189, 'doubt': 0.6989700043360189, 'as': 1.5917600346881504, 'to': 0.0, 'how': 1.3979400086720377, 'much': 1.3979400086720377, 'old': 0.6989700043360189, 'crop': 3.494850021680094, 'available': 0.6989700043360189, 'harvesting': 0.6989700043360189, 'has': 0.2218487496163564, 'practically': 0.6989700043360189, 'come': 0.6989700043360189, 'an': 0.2218487496163564, 'end': 0.6989700043360189, 'with': 1.193820026016113, 'estimates': 0.6989700043360189, 'around': 0.6989700043360189, '6': 0.6655462488490692, '4': 3.5814600780483383, 'sales': 4.892790030352132, 'standing': 0.6989700043360189, 'almost': 0.6989700043360189, '2': 3.5814600780483383, 'are': 1.989700043360188, 'few': 0.6989700043360189, 'hundred': 0.6989700043360189, 'thousand': 0.6989700043360189, 'hands': 0.6989700043360189, 'farmers': 1.3979400086720377, 'middlemen': 0.6989700043360189, 'exporters': 0.6989700043360189, 'processors': 0.6989700043360189, 'doubts': 0.6989700043360189, 'would': 0.3979400086720376, 'fit': 0.6989700043360189, 'export': 0.6989700043360189, 'shippers': 1.3979400086720377, 'now': 0.6989700043360189, 'experiencing': 0.6989700043360189, 'dificulties': 0.6989700043360189, 'obtaining': 0.6989700043360189, 'superior': 0.6989700043360189, 'certificates': 0.6989700043360189, 'view': 0.6989700043360189, 'lower': 0.6989700043360189, 'quality': 0.6989700043360189, 'over': 0.6989700043360189, 'recent': 0.6989700043360189, 'weeks': 0.6989700043360189, 'sold': 0.7958800173440752, 'good': 0.6989700043360189, 'part': 0.3979400086720376, 'their': 0.6989700043360189, 'held': 0.3979400086720376, 'spot': 0.6989700043360189, 'bean': 1.3979400086720377, 'prices': 0.6989700043360189, 'rose': 0.3979400086720376, '340': 1.3979400086720377, '350': 1.3979400086720377, 'cruzados': 0.6989700043360189, 'per': 1.193820026016113, 'arroba': 0.6989700043360189, '15': 0.6989700043360189, 'reluctant': 0.6989700043360189, 'offer': 0.3979400086720376, 'nearby': 0.6989700043360189, 'shipment': 1.3979400086720377, 'only': 0.6989700043360189, 'limited': 1.3979400086720377, 'booked': 0.6989700043360189, 'march': 1.5917600346881504, '1': 4.377340095392413, '750': 0.6989700043360189, '780': 0.6989700043360189, 'dlrs': 0.0, 'tonne': 1.3979400086720377, 'ports': 2.0969100130080567, 'named': 0.6989700043360189, 'new': 3.5814600780483383, 'also': 0.3979400086720376, 'light': 0.6989700043360189, 'all': 0.6989700043360189, 'open': 1.3979400086720377, 'june': 2.0969100130080567, 'july': 3.494850021680094, 'going': 0.6989700043360189, '850': 0.6989700043360189, '880': 1.3979400086720377, '35': 0.6989700043360189, '45': 0.6989700043360189, 'under': 0.3979400086720376, 'york': 5.591760034688151, 'aug': 2.7958800173440754, 'sept': 3.494850021680094, '870': 0.6989700043360189, '875': 0.6989700043360189, 'fob': 0.6989700043360189, 'routine': 0.6989700043360189, 'butter': 1.3979400086720377, 'made': 0.6989700043360189, 'april': 2.7958800173440754, '345': 0.6989700043360189, 'may': 2.0969100130080567, 'went': 0.6989700043360189, '27': 2.7958800173440754, 'times': 4.892790030352132, '400': 1.3979400086720377, '415': 0.6989700043360189, '351': 0.6989700043360189, '450': 0.6989700043360189, '28': 1.3979400086720377, 'oct': 2.0969100130080567, 'dec': 4.193820026016113, '480': 0.6989700043360189, 'destinations': 0.6989700043360189, 'u': 1.3979400086720377, 's': 0.19382002601611284, 'covertible': 0.6989700043360189, 'currency': 1.3979400086720377, 'areas': 1.3979400086720377, 'uruguay': 1.3979400086720377, 'cake': 0.6989700043360189, 'registered': 0.6989700043360189, '785': 1.3979400086720377, '995': 0.6989700043360189, '753': 0.6989700043360189, '0': 0.6989700043360189, '39': 0.6989700043360189, 'buyers': 0.6989700043360189, 'argentina': 0.6989700043360189, 'convertible': 0.6989700043360189, 'liquor': 0.6989700043360189, 'selling': 0.6989700043360189, '325': 0.6989700043360189, '380': 0.6989700043360189, '375': 0.6989700043360189, '25': 1.193820026016113, 'currently': 0.6989700043360189, 'estimated': 0.6989700043360189, '13': 0.3979400086720376, '1986': 0.3979400086720376, '87': 0.6989700043360189, '06': 0.6989700043360189, '1987': 0.6989700043360189, '88': 0.6989700043360189, 'final': 0.6989700043360189, 'expected': 0.6989700043360189, 'published': 0.6989700043360189, 'by': 0.3979400086720376, 'brazilian': 0.6989700043360189, 'trade': 0.6989700043360189, 'commission': 0.6989700043360189, 'after': 0.6989700043360189, 'carnival': 0.6989700043360189, 'which': 0.3979400086720376, 'ends': 0.6989700043360189, 'midday': 0.6989700043360189}, {'computer': 4.892790030352132, 'terminal': 4.193820026016113, 'systems': 1.3979400086720377, '': 0.0, 'lt': 0.6655462488490692, 'cpml': 0.6989700043360189, 'completes': 0.6989700043360189, 'sale': 0.7958800173440752, 'inc': 0.7958800173440752, 'said': 0.0, 'it': 0.0, 'has': 0.4436974992327128, 'completed': 0.3979400086720376, 'the': 0.0, 'of': 0.0, '200': 1.3979400086720377, '000': 1.193820026016113, 'shares': 2.0969100130080567, 'its': 0.0, 'common': 2.0969100130080567, 'stock': 1.193820026016113, 'and': 0.5814600780483385, 'warrants': 2.0969100130080567, 'to': 0.0, 'acquire': 0.6989700043360189, 'an': 0.2218487496163564, 'additional': 1.3979400086720377, 'one': 0.3979400086720376, 'mln': 0.2218487496163564, 'sedio': 1.3979400086720377, 'n': 0.3979400086720376, 'v': 0.6989700043360189, 'lugano': 0.6989700043360189, 'switzerland': 0.6989700043360189, 'for': 0.3876400520322257, '50': 1.3979400086720377, 'dlrs': 0.0, 'company': 0.8873949984654256, 'are': 0.3979400086720376, 'exercisable': 1.3979400086720377, 'five': 0.6989700043360189, 'years': 0.6989700043360189, 'at': 1.5917600346881504, 'a': 0.0, 'purchase': 0.6989700043360189, 'price': 2.0969100130080567, '125': 0.6989700043360189, 'per': 0.7958800173440752, 'share': 0.4436974992327128, 'also': 0.7958800173440752, 'right': 0.6989700043360189, 'buy': 0.6989700043360189, 'increase': 0.3979400086720376, 'total': 0.2218487496163564, 'holdings': 0.3979400086720376, 'up': 0.3979400086720376, '40': 0.6989700043360189, 'pct': 0.4436974992327128, 's': 0.19382002601611284, 'outstanding': 0.6989700043360189, 'under': 0.3979400086720376, 'certain': 0.6989700043360189, 'circumstances': 0.6989700043360189, 'involving': 0.6989700043360189, 'change': 0.6989700043360189, 'control': 0.6989700043360189, 'if': 0.3979400086720376, 'conditions': 0.6989700043360189, 'occur': 0.6989700043360189, 'would': 1.193820026016113, 'be': 0.19382002601611284, 'equal': 0.6989700043360189, '75': 0.3979400086720376, 'market': 0.6989700043360189, 'time': 0.6989700043360189, 'not': 0.2218487496163564, 'exceed': 0.6989700043360189, '1': 0.3979400086720376, 'sold': 0.3979400086720376, 'technolgy': 0.6989700043360189, 'rights': 0.6989700043360189, 'dot': 0.6989700043360189, 'matrix': 0.6989700043360189, 'impact': 0.6989700043360189, 'technology': 1.3979400086720377, 'including': 0.6989700043360189, 'any': 0.6989700043360189, 'future': 0.6989700043360189, 'improvements': 0.6989700043360189, 'woodco': 1.3979400086720377, 'houston': 0.6989700043360189, 'tex': 0.6989700043360189, 'but': 0.6989700043360189, 'continue': 0.6989700043360189, 'exclusive': 0.6989700043360189, 'worldwide': 0.6989700043360189, 'licensee': 0.6989700043360189, 'moves': 0.6989700043360189, 'were': 0.2218487496163564, 'part': 0.3979400086720376, 'reorganization': 0.6989700043360189, 'plan': 0.6989700043360189, 'help': 0.6989700043360189, 'pay': 0.6989700043360189, 'current': 0.6989700043360189, 'operation': 0.6989700043360189, 'costs': 0.6989700043360189, 'ensure': 0.6989700043360189, 'product': 0.3979400086720376, 'delivery': 0.6989700043360189, 'makes': 0.6989700043360189, 'generated': 0.6989700043360189, 'labels': 0.6989700043360189, 'forms': 0.6989700043360189, 'tags': 0.6989700043360189, 'ticket': 0.6989700043360189, 'printers': 0.6989700043360189, 'terminals': 0.6989700043360189}, {'n': 0.7958800173440752, '': 0.0, 'z': 1.3979400086720377, 'trading': 1.3979400086720377, 'bank': 2.0969100130080567, 'deposit': 1.3979400086720377, 'growth': 1.3979400086720377, 'rises': 0.6989700043360189, 'slightly': 0.6989700043360189, 'new': 0.3979400086720376, 'zealand': 0.6989700043360189, 's': 0.09691001300805642, 'seasonally': 0.6989700043360189, 'adjusted': 0.6989700043360189, 'rose': 1.193820026016113, '2': 0.3979400086720376, '6': 0.4436974992327128, 'pct': 1.109243748081782, 'in': 1.5529412473144948, 'january': 1.193820026016113, 'compared': 2.0969100130080567, 'with': 1.193820026016113, 'a': 0.0, 'rise': 1.3979400086720377, 'of': 0.0, '9': 0.3979400086720376, '4': 0.3979400086720376, 'december': 2.0969100130080567, 'the': 0.0, 'reserve': 0.6989700043360189, 'said': 0.0, 'year': 0.8873949984654256, 'on': 0.3979400086720376, 'total': 0.4436974992327128, 'deposits': 1.3979400086720377, '30': 0.6989700043360189, '26': 0.6989700043360189, '3': 0.6989700043360189, 'increase': 0.3979400086720376, 'and': 0.19382002601611284, '34': 0.6989700043360189, '5': 0.3979400086720376, 'ago': 0.3979400086720376, 'period': 0.3979400086720376, 'it': 0.0, 'its': 0.0, 'weekly': 0.3979400086720376, 'statistical': 0.6989700043360189, 'release': 0.6989700043360189, 'to': 0.0, '17': 0.6989700043360189, '18': 0.6989700043360189, 'billion': 2.0969100130080567, 'dlrs': 0.0, '16': 1.3979400086720377, '74': 0.6989700043360189, '13': 0.3979400086720376, '1986': 0.3979400086720376}, {'national': 2.7958800173440754, 'amusements': 2.7958800173440754, 'again': 0.7958800173440752, 'ups': 0.6989700043360189, 'viacom': 4.193820026016113, '': 0.0, 'lt': 0.6655462488490692, 'via': 0.6989700043360189, 'bid': 0.6989700043360189, 'international': 0.6989700043360189, 'inc': 1.5917600346881504, 'said': 0.0, 'has': 0.4436974992327128, 'raised': 2.0969100130080567, 'the': 0.0, 'value': 1.3979400086720377, 'of': 0.0, 'its': 0.0, 'offer': 0.7958800173440752, 'for': 0.19382002601611284, 's': 0.19382002601611284, 'publicly': 0.6989700043360189, 'held': 0.3979400086720376, 'stock': 0.7958800173440752, 'company': 0.2218487496163564, 'special': 0.6989700043360189, 'committee': 1.3979400086720377, 'board': 0.6989700043360189, 'plans': 0.6989700043360189, 'to': 0.0, 'meet': 0.6989700043360189, 'later': 0.6989700043360189, 'today': 0.6989700043360189, 'consider': 0.6989700043360189, 'this': 0.3979400086720376, 'and': 0.09691001300805642, 'one': 0.7958800173440752, 'submitted': 0.6989700043360189, 'march': 0.3979400086720376, 'by': 0.7958800173440752, 'mcv': 0.6989700043360189, 'holdings': 1.193820026016113, 'a': 0.0, 'spokeswoman': 0.6989700043360189, 'was': 0.7958800173440752, 'unable': 0.6989700043360189, 'say': 0.6989700043360189, 'if': 0.3979400086720376, 'met': 0.6989700043360189, 'as': 0.3979400086720376, 'planned': 0.6989700043360189, 'yesterday': 0.6989700043360189, 'arsenal': 1.3979400086720377, 'subsidiary': 0.6989700043360189, 'amount': 0.6989700043360189, 'cash': 0.6989700043360189, 'it': 0.0, 'is': 0.3979400086720376, 'offering': 0.6989700043360189, 'each': 0.6989700043360189, 'share': 0.4436974992327128, '75': 1.193820026016113, 'cts': 0.7958800173440752, '42': 0.6989700043360189, 'dlrs': 0.0, 'while': 0.6989700043360189, 'fraction': 0.6989700043360189, 'exchangeable': 0.6989700043360189, 'preferred': 0.6989700043360189, 'be': 0.09691001300805642, 'included': 0.3979400086720376, '25': 0.3979400086720376, '7': 0.6989700043360189, 'already': 0.6989700043360189, 'owns': 0.6989700043360189, '19': 0.6989700043360189, '6': 0.2218487496163564, 'pct': 0.2218487496163564}, {'rogers': 2.7958800173440754, '': 0.0, 'lt': 0.2218487496163564, 'rog': 0.6989700043360189, 'sees': 0.6989700043360189, '1st': 0.6989700043360189, 'qtr': 0.6989700043360189, 'net': 0.6989700043360189, 'up': 0.7958800173440752, 'significantly': 1.3979400086720377, 'corp': 0.6989700043360189, 'said': 0.0, 'first': 1.3979400086720377, 'quarter': 3.494850021680094, 'earnings': 1.3979400086720377, 'will': 0.7958800173440752, 'be': 0.2907300390241693, 'from': 0.6989700043360189, 'of': 0.0, '114': 0.6989700043360189, '000': 0.3979400086720376, 'dlrs': 0.0, 'or': 0.6989700043360189, 'four': 0.6989700043360189, 'cts': 0.3979400086720376, 'share': 0.2218487496163564, 'for': 0.3876400520322257, 'the': 0.0, 'same': 0.3979400086720376, 'last': 0.3979400086720376, 'year': 0.4436974992327128, 'company': 0.2218487496163564, 'it': 0.0, 'expects': 0.6989700043360189, 'revenues': 1.3979400086720377, 'to': 0.0, 'somewhat': 0.6989700043360189, 'higher': 0.6989700043360189, 'than': 0.6989700043360189, '32': 0.6989700043360189, '9': 0.3979400086720376, 'mln': 0.2218487496163564, 'posted': 0.6989700043360189, 'ago': 0.3979400086720376, 'reached': 0.6989700043360189, 'an': 0.2218487496163564, 'agreement': 0.6989700043360189, 'sale': 0.7958800173440752, 'its': 0.0, 'molded': 0.6989700043360189, 'switch': 0.6989700043360189, 'circuit': 0.6989700043360189, 'product': 0.3979400086720376, 'line': 0.6989700043360189, 'a': 0.0, 'major': 0.6989700043360189, 'supplier': 0.6989700043360189, 'terms': 0.6989700043360189, 'which': 0.3979400086720376, 'were': 0.2218487496163564, 'not': 0.2218487496163564, 'disclosed': 0.6989700043360189, 'completed': 0.3979400086720376, 'early': 0.3979400086720376, 'in': 0.2218487496163564, 'second': 0.6989700043360189}]\n"
     ]
    },
    {
     "name": "stderr",
     "output_type": "stream",
     "text": [
      "[nltk_data] Downloading package reuters to\n",
      "[nltk_data]     C:\\Users\\nic0m\\AppData\\Roaming\\nltk_data...\n",
      "[nltk_data]   Package reuters is already up-to-date!\n"
     ]
    }
   ],
   "source": [
    "import nltk\n",
    "from nltk.corpus import reuters\n",
    "import math\n",
    "\n",
    "#Download the documents\n",
    "nltk.download(\"reuters\")\n",
    "documents = reuters.fileids()\n",
    "\n",
    "docs = list(filter(lambda doc: doc.startswith(\"train\"),documents));\n",
    "print(str(len(docs)) + \" total train documents\");\n",
    "\n",
    "#To access the content of a news article, we can use the reuters.words() function\n",
    "print(\"The first document contains \"+str(len(reuters.words(docs[0])))+\" words.\\nHere they are:\")\n",
    "# for word in reuters.words(docs[0]):\n",
    "    # print(word)\n",
    "\n",
    "#Estimate inverse document frequencies based on a corpus of documents.\n",
    "def IDF(corpus):\n",
    "    idfs = {}\n",
    "    all_vec = {}\n",
    "    vecs = []\n",
    "    for text in corpus:\n",
    "        words = reuters.words(text)\n",
    "        vecs.append(get_fwbog(words))\n",
    "        \n",
    "    for vec in vecs:\n",
    "        for word in vec:\n",
    "            if word in all_vec:\n",
    "                all_vec[word] += 1\n",
    "            else:\n",
    "                all_vec[word] = 1\n",
    "                \n",
    "    for text in corpus:\n",
    "        words = reuters.words(text)\n",
    "        for word in words:\n",
    "            word = word.lower().translate(str.maketrans('', '', string.punctuation))\n",
    "            if word not in idfs:\n",
    "                idfs[word] = math.log10(len(corpus) / all_vec[word])\n",
    "    print(idfs)\n",
    "    return idfs\n",
    "\n",
    "def get_fwbog(words):\n",
    "    bow = {}\n",
    "    for word in words:\n",
    "        word = word.lower().translate(str.maketrans('', '', string.punctuation))\n",
    "        if word in bow:\n",
    "            bow[word] += 1\n",
    "        else:\n",
    "            bow[word] = 1\n",
    "    return bow\n",
    "\n",
    "#Turn a corpus of arbitrary texts into TF-IDF weighted BOW vectors.\n",
    "def TFIDF(corpus):\n",
    "    vecs = []\n",
    "    # First get a frequency-weighted bag of words for every text in fwbogs\n",
    "    fwbogs = []\n",
    "    for text in corpus:\n",
    "        words = reuters.words(text)\n",
    "        fwbogs.append(get_fwbog(words))\n",
    "\n",
    "    # Secondly calculate the TF-IDF\n",
    "    for i, text in enumerate(corpus):\n",
    "        tf_idf_vec = {}\n",
    "        words = reuters.words(text)\n",
    "\n",
    "        # Count frequency in all documents\n",
    "        for word in words:\n",
    "            word = word.lower().translate(str.maketrans('', '', string.punctuation))\n",
    "            document_count = 0\n",
    "            for fwbog in fwbogs:\n",
    "                if word in fwbog:\n",
    "                    document_count += 1\n",
    "            # Add word to tf_idf_vec\n",
    "            word_fwbogs = fwbogs[i]\n",
    "            tf_idf_vec[word] = word_fwbogs[word] * math.log10(len(corpus) / document_count)\n",
    "        vecs.append(tf_idf_vec)\n",
    "        print(f\"done {(i+1)} of {len(corpus)}\")\n",
    "    print(vecs)\n",
    "\n",
    "TFIDF(docs[:5])"
   ]
  },
  {
   "attachments": {},
   "cell_type": "markdown",
   "metadata": {},
   "source": [
    "c) Bag-of-words models are order invariant. They do not retain the ordering in which terms occur in the document. Is there any way to include term order information in these models? Justify your answer below."
   ]
  },
  {
   "attachments": {},
   "cell_type": "markdown",
   "metadata": {},
   "source": []
  },
  {
   "attachments": {},
   "cell_type": "markdown",
   "metadata": {},
   "source": [
    "# 2. Topic Models\n",
    "Topic models represent textual documents in terms of their distribution of latent topics. Imagine you have trained a 10-topic LDA model. Each topic is a frequency distribution over thousands of terms. Is there a good way of illustrating the meaning of the learned topics to a human? Discuss the advantages and disadvantages of some of the possible options below."
   ]
  },
  {
   "attachments": {},
   "cell_type": "markdown",
   "metadata": {},
   "source": []
  }
 ],
 "metadata": {
  "kernelspec": {
   "display_name": "Python 3",
   "language": "python",
   "name": "python3"
  },
  "language_info": {
   "codemirror_mode": {
    "name": "ipython",
    "version": 3
   },
   "file_extension": ".py",
   "mimetype": "text/x-python",
   "name": "python",
   "nbconvert_exporter": "python",
   "pygments_lexer": "ipython3",
   "version": "3.10.11"
  },
  "orig_nbformat": 4
 },
 "nbformat": 4,
 "nbformat_minor": 2
}
